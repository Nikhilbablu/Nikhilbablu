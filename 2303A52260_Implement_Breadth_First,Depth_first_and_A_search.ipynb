{
  "nbformat": 4,
  "nbformat_minor": 0,
  "metadata": {
    "colab": {
      "provenance": [],
      "authorship_tag": "ABX9TyMh+3EjC1BS9UGbzWi0OCvs",
      "include_colab_link": true
    },
    "kernelspec": {
      "name": "python3",
      "display_name": "Python 3"
    },
    "language_info": {
      "name": "python"
    }
  },
  "cells": [
    {
      "cell_type": "markdown",
      "metadata": {
        "id": "view-in-github",
        "colab_type": "text"
      },
      "source": [
        "<a href=\"https://colab.research.google.com/github/Nikhilbablu/Nikhilbablu/blob/Nikhil/2303A52260_Implement_Breadth_First%2CDepth_first_and_A_search.ipynb\" target=\"_parent\"><img src=\"https://colab.research.google.com/assets/colab-badge.svg\" alt=\"Open In Colab\"/></a>"
      ]
    },
    {
      "cell_type": "code",
      "execution_count": null,
      "metadata": {
        "colab": {
          "base_uri": "https://localhost:8080/"
        },
        "id": "nIEx8ZZRHgAN",
        "outputId": "615aa889-15cf-46c1-c3ef-b8180b90b65e"
      },
      "outputs": [
        {
          "output_type": "stream",
          "name": "stdout",
          "text": [
            "['B', 'A', 'C', 'D', 'E', 'H', 'F', 'G']\n"
          ]
        }
      ],
      "source": [
        "#Depth first\n",
        "from queue import Queue\n",
        "graph = {'A': ['B','C','G'],\n",
        "         'B': ['A'],\n",
        "         'C': ['A','D','F'],\n",
        "         'D': ['A','C','E','H'],\n",
        "         'E': ['D','H','F'],\n",
        "         'F': ['C','E'],\n",
        "         'G': ['A'],\n",
        "         'H': ['D','E']\n",
        "        }\n",
        "def dfs(graph,node,visited):\n",
        "    if node not in visited:\n",
        "        visited.append(node)\n",
        "        for n in graph[node]:\n",
        "            dfs(graph,n,visited)\n",
        "    return visited\n",
        "\n",
        "visited = dfs(graph,'B',[])\n",
        "print(visited)\n"
      ]
    },
    {
      "cell_type": "code",
      "source": [
        "#Breadth First\n",
        "from queue import Queue\n",
        "graph = {0: [1, 2,3],\n",
        "         1: [0,2],\n",
        "         2: [1,3,5],\n",
        "         3:[0,2,4],\n",
        "         4:[3,5,7],\n",
        "         5:[2,4,6,7],\n",
        "         6:[5,7],\n",
        "         7:[]}\n",
        "def bfs(graph,node):\n",
        "    visited = []\n",
        "    queue = Queue()\n",
        "    queue.put(node)\n",
        "    while not queue.empty():\n",
        "        s = queue.get()\n",
        "        if s not in visited:\n",
        "            visited.append(s)\n",
        "            for neighbour in graph[s]:\n",
        "                queue.put(neighbour)\n",
        "    return visited\n",
        "print(bfs(graph,1))"
      ],
      "metadata": {
        "colab": {
          "base_uri": "https://localhost:8080/"
        },
        "id": "uUcijFiyM2a4",
        "outputId": "09e01aa2-88e2-4ffd-ca8e-b96aaead3eff"
      },
      "execution_count": null,
      "outputs": [
        {
          "output_type": "stream",
          "name": "stdout",
          "text": [
            "[1, 0, 2, 3, 5, 4, 6, 7]\n"
          ]
        }
      ]
    },
    {
      "cell_type": "code",
      "source": [
        "#A* Search\n",
        "from copy import deepcopy\n",
        "import numpy as np\n",
        "import time\n",
        "def bestsolution(state):\n",
        "  bestsol=np.array([],int).reshape(-1,9)\n",
        "  count=len(state)-1\n",
        "  while count!=-1:\n",
        "    bestsol=np.insert(bestsol,0,state[count]['puzzle'],0)\n",
        "    count=(state[count]['parent'])\n",
        "  return bestsol.reshaped(-1,3,3)"
      ],
      "metadata": {
        "colab": {
          "base_uri": "https://localhost:8080/",
          "height": 106
        },
        "id": "BX9ix03FOWiQ",
        "outputId": "a06fe8d5-498f-4581-a440-4489f1b6cf7b"
      },
      "execution_count": null,
      "outputs": [
        {
          "output_type": "error",
          "ename": "IndentationError",
          "evalue": "expected an indented block after 'while' statement on line 8 (<ipython-input-25-725d9814ef00>, line 9)",
          "traceback": [
            "\u001b[0;36m  File \u001b[0;32m\"<ipython-input-25-725d9814ef00>\"\u001b[0;36m, line \u001b[0;32m9\u001b[0m\n\u001b[0;31m    bestsol=np.insert(bestsol,0,state[count]['puzzle'],0)\u001b[0m\n\u001b[0m                                                         ^\u001b[0m\n\u001b[0;31mIndentationError\u001b[0m\u001b[0;31m:\u001b[0m expected an indented block after 'while' statement on line 8\n"
          ]
        }
      ]
    }
  ]
}