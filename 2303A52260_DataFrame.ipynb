{
  "nbformat": 4,
  "nbformat_minor": 0,
  "metadata": {
    "colab": {
      "provenance": [],
      "authorship_tag": "ABX9TyPbgyQLr2B0wRRyRoH/t765",
      "include_colab_link": true
    },
    "kernelspec": {
      "name": "python3",
      "display_name": "Python 3"
    },
    "language_info": {
      "name": "python"
    }
  },
  "cells": [
    {
      "cell_type": "markdown",
      "metadata": {
        "id": "view-in-github",
        "colab_type": "text"
      },
      "source": [
        "<a href=\"https://colab.research.google.com/github/Nikhilbablu/Nikhilbablu/blob/Nikhil/2303A52260_DataFrame.ipynb\" target=\"_parent\"><img src=\"https://colab.research.google.com/assets/colab-badge.svg\" alt=\"Open In Colab\"/></a>"
      ]
    },
    {
      "cell_type": "code",
      "execution_count": null,
      "metadata": {
        "colab": {
          "base_uri": "https://localhost:8080/"
        },
        "id": "0SCZyyPlD81Q",
        "outputId": "2ddaa0da-c907-45e1-e9c6-676abe79373c"
      },
      "outputs": [
        {
          "output_type": "stream",
          "name": "stdout",
          "text": [
            "    Name  Age  Height  Weight\n",
            "0  Kiran   25     145      45\n",
            "1   Arun   30     151      55\n",
            "2  Vijay   35     165      65\n",
            "3  Varun   40     173      75\n"
          ]
        }
      ],
      "source": [
        "import pandas as pd\n",
        "ppl=['Kiran','Arun','Vijay','Varun']\n",
        "age=[25,30,35,40]\n",
        "height=[145,151,165,173]\n",
        "wt=[45,55,65,75]\n",
        "df=pd.DataFrame({'Name':ppl,'Age':age,'Height':height,'Weight':wt})\n",
        "print(df)"
      ]
    },
    {
      "cell_type": "markdown",
      "source": [],
      "metadata": {
        "id": "o0H-_GI5E1wP"
      }
    }
  ]
}