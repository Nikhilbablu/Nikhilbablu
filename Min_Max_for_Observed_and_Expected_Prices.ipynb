{
  "nbformat": 4,
  "nbformat_minor": 0,
  "metadata": {
    "colab": {
      "provenance": [],
      "authorship_tag": "ABX9TyNrzp2/HhkNIPOJcPMfMIsG",
      "include_colab_link": true
    },
    "kernelspec": {
      "name": "python3",
      "display_name": "Python 3"
    },
    "language_info": {
      "name": "python"
    }
  },
  "cells": [
    {
      "cell_type": "markdown",
      "metadata": {
        "id": "view-in-github",
        "colab_type": "text"
      },
      "source": [
        "<a href=\"https://colab.research.google.com/github/Nikhilbablu/Nikhilbablu/blob/Nikhil/Min_Max_for_Observed_and_Expected_Prices.ipynb\" target=\"_parent\"><img src=\"https://colab.research.google.com/assets/colab-badge.svg\" alt=\"Open In Colab\"/></a>"
      ]
    },
    {
      "cell_type": "code",
      "execution_count": null,
      "metadata": {
        "colab": {
          "base_uri": "https://localhost:8080/"
        },
        "id": "rZ1zmAdJU-VX",
        "outputId": "92a798ee-fa92-400e-9f9c-4e096e31145c"
      },
      "outputs": [
        {
          "output_type": "stream",
          "name": "stdout",
          "text": [
            "Observed Price (Min, Max): (5.0, 50.0)\n",
            "Expected Price (Min, Max): (-4.281310709184915, 44.67308338731289)\n"
          ]
        }
      ],
      "source": [
        "# Compute Min-Max for Observed and Expected Prices\n",
        "import pandas as pd\n",
        "import statsmodels.api as sm\n",
        "\n",
        "# Load the dataset\n",
        "url = \"https://raw.githubusercontent.com/selva86/datasets/master/BostonHousing.csv\"\n",
        "df = pd.read_csv(url)\n",
        "\n",
        "# Define independent variables (features) and the dependent variable (Price)\n",
        "X = df[['crim', 'zn', 'indus', 'chas', 'nox', 'rm', 'age', 'dis', 'rad', 'tax', 'ptratio', 'b', 'lstat']]\n",
        "y = df['medv']  # 'medv' is the target variable (Observed Price)\n",
        "\n",
        "# Add a constant term (intercept) to the independent variables\n",
        "X = sm.add_constant(X)\n",
        "\n",
        "# Fit the OLS regression model\n",
        "model = sm.OLS(y, X).fit()\n",
        "\n",
        "# Make predictions (Expected Price)\n",
        "y_pred = model.predict(X)\n",
        "\n",
        "# Compute Min and Max values for Observed and Expected Prices\n",
        "min_observed = y.min()\n",
        "max_observed = y.max()\n",
        "\n",
        "min_expected = y_pred.min()\n",
        "max_expected = y_pred.max()\n",
        "\n",
        "# Print the Min-Max values\n",
        "print(f\"Observed Price (Min, Max): ({min_observed}, {max_observed})\")\n",
        "print(f\"Expected Price (Min, Max): ({min_expected}, {max_expected})\")"
      ]
    },
    {
      "cell_type": "code",
      "source": [
        "# MinMax Range between Observed and Expected Prices\n",
        "min_value = min(min_observed, min_expected)\n",
        "max_value = max(max_observed, max_expected)\n",
        "\n",
        "print(f\"MinMax Range between Observed and Expected Prices: ({min_value}, {max_value})\")"
      ],
      "metadata": {
        "colab": {
          "base_uri": "https://localhost:8080/"
        },
        "id": "YO_yoPndYXMU",
        "outputId": "676aaf3f-4b87-4616-b208-b07f6aa0f1f3"
      },
      "execution_count": null,
      "outputs": [
        {
          "output_type": "stream",
          "name": "stdout",
          "text": [
            "MinMax Range between Observed and Expected Prices: (-4.281310709184915, 50.0)\n"
          ]
        }
      ]
    }
  ]
}