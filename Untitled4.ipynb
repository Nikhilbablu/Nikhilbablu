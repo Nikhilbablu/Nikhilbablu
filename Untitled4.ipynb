{
  "nbformat": 4,
  "nbformat_minor": 0,
  "metadata": {
    "colab": {
      "provenance": [],
      "authorship_tag": "ABX9TyP+l3C62//NMK7+1pz7aIkp",
      "include_colab_link": true
    },
    "kernelspec": {
      "name": "python3",
      "display_name": "Python 3"
    },
    "language_info": {
      "name": "python"
    }
  },
  "cells": [
    {
      "cell_type": "markdown",
      "metadata": {
        "id": "view-in-github",
        "colab_type": "text"
      },
      "source": [
        "<a href=\"https://colab.research.google.com/github/Nikhilbablu/Nikhilbablu/blob/Nikhil/Untitled4.ipynb\" target=\"_parent\"><img src=\"https://colab.research.google.com/assets/colab-badge.svg\" alt=\"Open In Colab\"/></a>"
      ]
    },
    {
      "cell_type": "code",
      "execution_count": 17,
      "metadata": {
        "colab": {
          "base_uri": "https://localhost:8080/"
        },
        "id": "L2tKoFbNAIfW",
        "outputId": "f54d6d05-7036-468f-c722-ff9acd44009c"
      },
      "outputs": [
        {
          "output_type": "stream",
          "name": "stdout",
          "text": [
            "[1 2 3 4 5 6]\n",
            "<class 'numpy.ndarray'>\n"
          ]
        }
      ],
      "source": [
        "import numpy as np\n",
        "list = np.array([1,2,3,4,5,6])\n",
        "print(array)\n",
        "print(type(array))"
      ]
    },
    {
      "cell_type": "code",
      "source": [
        "import numpy as np\n",
        "array1= np.array([1,2,3])\n",
        "array2= np.array([4,5,6])\n",
        "print(\"Addition :\"+str(array1+array2))\n",
        "print(\"Subtraction :\"+str(array1-array2))\n",
        "print(\"Multiplication :\"+str(array1*array2))\n",
        "print(\"Division :\"+str(array1/array2))\n",
        "print(\"Power :\"+str(array1**array2))\n",
        "print(\"Modulus :\"+str(array1%array2))"
      ],
      "metadata": {
        "colab": {
          "base_uri": "https://localhost:8080/"
        },
        "id": "tJ9X59YxDOSf",
        "outputId": "312c693a-5ae9-4fd3-dff7-93f9864c5677"
      },
      "execution_count": 18,
      "outputs": [
        {
          "output_type": "stream",
          "name": "stdout",
          "text": [
            "Addition :[5 7 9]\n",
            "Subtraction :[-3 -3 -3]\n",
            "Multiplication :[ 4 10 18]\n",
            "Division :[0.25 0.4  0.5 ]\n",
            "Power :[  1  32 729]\n",
            "Modulus :[1 2 3]\n"
          ]
        }
      ]
    },
    {
      "cell_type": "code",
      "source": [
        "import numpy as np\n",
        "array1= np.array([1,2,3])\n",
        "array2= np.array([4,5,6])\n",
        "print(np.sin(array1))\n",
        "print(np.cos(array1))\n",
        "print(np.tan(array1))\n",
        "print(np.log(array1))\n",
        "print(np.exp(array1))\n",
        "print(np.log2(array1))\n",
        "print(np.log(array1))"
      ],
      "metadata": {
        "colab": {
          "base_uri": "https://localhost:8080/"
        },
        "id": "-RVIb8scECe5",
        "outputId": "183a0a42-0110-4a9f-82ff-89b9e161b717"
      },
      "execution_count": 19,
      "outputs": [
        {
          "output_type": "stream",
          "name": "stdout",
          "text": [
            "[0.84147098 0.90929743 0.14112001]\n",
            "[ 0.54030231 -0.41614684 -0.9899925 ]\n",
            "[ 1.55740772 -2.18503986 -0.14254654]\n",
            "[0.         0.69314718 1.09861229]\n",
            "[ 2.71828183  7.3890561  20.08553692]\n",
            "[0.        1.        1.5849625]\n",
            "[0.         0.69314718 1.09861229]\n"
          ]
        }
      ]
    },
    {
      "cell_type": "code",
      "source": [],
      "metadata": {
        "id": "-hgjqu4ZEwjR"
      },
      "execution_count": null,
      "outputs": []
    }
  ]
}